{
 "cells": [
  {
   "cell_type": "code",
   "execution_count": null,
   "metadata": {},
   "outputs": [],
   "source": [
    "import torch\n",
    "import torch.optim as optim\n",
    "import numpy as np\n",
    "from maze_env import MazeEnv\n",
    "from policy_network import PolicyNetwork\n",
    "from sum_utils import train_agent\n",
    "from policies import epsilon_greedy_policy, pure_stochastic"
   ]
  },
  {
   "cell_type": "code",
   "execution_count": null,
   "metadata": {},
   "outputs": [],
   "source": [
    ""
   ]
  },
  {
   "cell_type": "code",
   "execution_count": null,
   "metadata": {},
   "outputs": [],
   "source": [
    "device = torch.device(\"cuda\" if torch.cuda.is_available() else \"cpu\")\n",
    "print(f\"Using device: {device}\")"
   ]
  },
  {
   "cell_type": "code",
   "execution_count": null,
   "metadata": {},
   "outputs": [],
   "source": [
    "\n",
    "env = MazeEnv()\n",
    "\n",
    "num_episodes = 1000\n",
    "maze_size = (9, 9)\n",
    "\n",
    "action_dim = env.action_space.n\n",
    "maze_input_dim = np.prod(maze_size)\n",
    "pos_input_dim = np.prod(maze_size)\n",
    "policy_net = PolicyNetwork(maze_input_dim, pos_input_dim, action_dim).to(device)\n",
    "policy = pure_stochastic\n",
    "optimizer = optim.Adam(policy_net.parameters(), lr=1e-2)"
   ]
  },
  {
   "cell_type": "code",
   "execution_count": null,
   "metadata": {},
   "outputs": [],
   "source": [
    "train_agent(env, policy_net, policy, optimizer, num_episodes, maze_size, device)"
   ]
  },
  {
   "cell_type": "markdown",
   "metadata": {},
   "source": [
    " # Some Markdown\n",
    " - some list\n",
    " $$$\\lambda$"
   ]
  }
 ],
 "nbformat": 4,
 "nbformat_minor": 2,
 "metadata": {
  "language_info": {
   "codemirror_mode": {
    "name": "ipython",
    "version": 3
   },
   "file_extension": ".py",
   "mimetype": "text/x-python",
   "name": "python",
   "nbconvert_exporter": "python",
   "pygments_lexer": "ipython3",
   "version": 3
  }
 }
}